{
 "cells": [
  {
   "cell_type": "code",
   "execution_count": 1,
   "metadata": {},
   "outputs": [],
   "source": [
    "! cp -r /scratch1/00946/zzhang/design-safe-tutorial/data.tar.gz /tmp/\n",
    "! tar zxf /tmp/data.tar.gz -C /tmp"
   ]
  },
  {
   "cell_type": "code",
   "execution_count": 2,
   "metadata": {},
   "outputs": [
    {
     "name": "stdout",
     "output_type": "stream",
     "text": [
      "Train  Validation\n",
      "ls: cannot access /tmp/data.tar.gz: No such file or directory\n"
     ]
    }
   ],
   "source": [
    "! ls /tmp/Dataset_2\n",
    "! rm /tmp/data.tar.gz\n",
    "! ls /tmp/data.tar.gz"
   ]
  },
  {
   "cell_type": "code",
   "execution_count": null,
   "metadata": {},
   "outputs": [],
   "source": []
  }
 ],
 "metadata": {
  "kernelspec": {
   "display_name": "Python 3.9.2 (venv)",
   "language": "python",
   "name": "py392-venv"
  },
  "language_info": {
   "codemirror_mode": {
    "name": "ipython",
    "version": 3
   },
   "file_extension": ".py",
   "mimetype": "text/x-python",
   "name": "python",
   "nbconvert_exporter": "python",
   "pygments_lexer": "ipython3",
   "version": "3.9.2"
  }
 },
 "nbformat": 4,
 "nbformat_minor": 2
}
