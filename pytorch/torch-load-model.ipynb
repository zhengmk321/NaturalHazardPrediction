{
 "cells": [
  {
   "cell_type": "code",
   "execution_count": 1,
   "metadata": {},
   "outputs": [],
   "source": [
    "import sys\n",
    "import os\n",
    "import numpy as np\n",
    "import gc\n",
    "\n",
    "import torch\n",
    "import torchvision\n",
    "from torchvision import datasets, models, transforms\n",
    "import torch.nn as nn\n",
    "from torch.utils.data.distributed import DistributedSampler\n",
    "import torch.distributed as dist\n",
    "from datetime import datetime\n",
    "import warnings\n",
    "import shutil\n"
   ]
  },
  {
   "cell_type": "code",
   "execution_count": 8,
   "metadata": {},
   "outputs": [],
   "source": [
    "def load_datasets(train_path, val_path, test_path):\n",
    "  val_img_transform = transforms.Compose([transforms.Resize((244,244)),\n",
    "                                          transforms.ToTensor()])\n",
    "  train_img_transform = transforms.Compose([\n",
    "#                                             transforms.RandomHorizontalFlip(), \n",
    "#                                             transforms.RandomAffine(degrees=0, scale=(0.8,1.2), shear=0.2, translate=(0.2, 0.2)), \n",
    "                                            transforms.AutoAugment(),\n",
    "                                            transforms.Resize((244,244)),\n",
    "                                            transforms.ToTensor()])\n",
    "  train_dataset = datasets.ImageFolder(train_path, transform=train_img_transform)\n",
    "  val_dataset = datasets.ImageFolder(val_path, transform=val_img_transform) \n",
    "  test_dataset = datasets.ImageFolder(test_path, transform=val_img_transform) if test_path is not None else None\n",
    "  return train_dataset, val_dataset, test_dataset\n",
    "    \n",
    "def construct_dataloaders(train_set, val_set, test_set, batch_size, shuffle=True):\n",
    "  train_dataloader = torch.utils.data.DataLoader(train_set, batch_size, shuffle)\n",
    "  val_dataloader = torch.utils.data.DataLoader(val_set, batch_size) \n",
    "  test_dataloader = torch.utils.data.DataLoader(test_aset, batch_size) if test_path is not None else None\n",
    "  return train_dataloader, val_dataloader, test_dataloader"
   ]
  },
  {
   "cell_type": "code",
   "execution_count": 3,
   "metadata": {},
   "outputs": [],
   "source": [
    "@torch.no_grad()\n",
    "def eval_model(data_loader, model, loss_fn, DEVICE):\n",
    "  model.eval()\n",
    "  loss, accuracy = 0.0, 0.0\n",
    "  n = len(data_loader)\n",
    "\n",
    "  for i, (x,y) in enumerate(data_loader):\n",
    "    x,y = x.to(DEVICE), y.to(DEVICE)\n",
    "    pred = model(x)\n",
    "    loss += loss_fn(pred, y)/len(x)\n",
    "    pred_label = torch.argmax(pred, axis = 1)\n",
    "    accuracy += torch.sum(pred_label == y)/len(x)\n",
    "    \n",
    "  return loss/n, accuracy/n"
   ]
  },
  {
   "cell_type": "code",
   "execution_count": 9,
   "metadata": {},
   "outputs": [],
   "source": [
    "def getVGGModel():\n",
    "  vgg16 = models.vgg16_bn(weights=models.vgg.VGG16_BN_Weights.IMAGENET1K_V1)\n",
    "\n",
    "  # Fix the conv layers parameters\n",
    "  for conv_param in vgg16.features.parameters():\n",
    "    conv_param.require_grad = False\n",
    "\n",
    "  classifications = nn.Sequential(\n",
    "    nn.Flatten(),\n",
    "    nn.Linear(25088,1024),\n",
    "    nn.ReLU(inplace=True),\n",
    "    nn.Dropout(p=0.5),\n",
    "    nn.Linear(1024,3)\n",
    "  )\n",
    "\n",
    "  vgg16.classifier = classifications\n",
    "\n",
    "  return vgg16"
   ]
  },
  {
   "cell_type": "code",
   "execution_count": null,
   "metadata": {},
   "outputs": [],
   "source": [
    "def load_checkpoint(checkpoint_path):\n",
    "  checkpoint = torch.load(checkpoint_path, map_location=torch.device('cuda'))\n",
    "  return checkpoint"
   ]
  },
  {
   "cell_type": "code",
   "execution_count": null,
   "metadata": {},
   "outputs": [],
   "source": [
    "def load_model_fm_checkpoint(checkpoint, primitive_model):\n",
    "  primitive_model.load_state_dict(checkpoint['model_state_dict'])\n",
    "  return primitive_model"
   ]
  },
  {
   "cell_type": "code",
   "execution_count": 10,
   "metadata": {},
   "outputs": [
    {
     "name": "stdout",
     "output_type": "stream",
     "text": [
      "Best loss: 0.04212700575590134, best accuracy: 0.8187500238418579\n"
     ]
    }
   ],
   "source": [
    "checkpoint_path = \"/home1/09308/zhengmk/ML-Training-2022/output_model/best_model.pt\"\n",
    "checkpoint = load_checkpoint(checkpoint_path, map_location=torch.device('cuda'))\n",
    "\n",
    "print(f\"Best loss: {checkpoint['loss']}, best accuracy: {checkpoint['accuracy']}\")"
   ]
  },
  {
   "cell_type": "code",
   "execution_count": 11,
   "metadata": {},
   "outputs": [
    {
     "data": {
      "text/plain": [
       "<All keys matched successfully>"
      ]
     },
     "execution_count": 11,
     "metadata": {},
     "output_type": "execute_result"
    }
   ],
   "source": [
    "DEVICE = 'cuda'\n",
    "batch_size = 80\n",
    "train_path, val_path, test_path = \"/tmp/Dataset_2/Train/\", \"/tmp/Dataset_2/Validation/\", None\n",
    "\n",
    "loss_fn = nn.CrossEntropyLoss(label_smoothing=0.1).cuda()\n",
    "train_set, val_set, _ = load_datasets(train_path, val_path, test_path)\n",
    "_, val_loader, _ = construct_dataloaders(train_set, val_set, None, batch_size, True)\n",
    "model = getVGGModel().to(DEVICE)\n",
    "model = load_model_fm_checkpoint(checkpoint, model)"
   ]
  },
  {
   "cell_type": "code",
   "execution_count": 12,
   "metadata": {},
   "outputs": [
    {
     "name": "stdout",
     "output_type": "stream",
     "text": [
      "Val loss: 0.00016985634283628315, Val accuracy: 0.6831955909729004\n"
     ]
    }
   ],
   "source": [
    "loss, acc = eval_model(val_loader, model, loss_fn, DEVICE)\n",
    "print(f\"Val loss: {loss}, Val accuracy: {acc}\") "
   ]
  },
  {
   "cell_type": "code",
   "execution_count": null,
   "metadata": {},
   "outputs": [],
   "source": []
  },
  {
   "cell_type": "code",
   "execution_count": null,
   "metadata": {},
   "outputs": [],
   "source": []
  }
 ],
 "metadata": {
  "kernelspec": {
   "display_name": "Python 3.9.2 (venv)",
   "language": "python",
   "name": "py392-venv"
  },
  "language_info": {
   "codemirror_mode": {
    "name": "ipython",
    "version": 3
   },
   "file_extension": ".py",
   "mimetype": "text/x-python",
   "name": "python",
   "nbconvert_exporter": "python",
   "pygments_lexer": "ipython3",
   "version": "3.9.2"
  }
 },
 "nbformat": 4,
 "nbformat_minor": 2
}
