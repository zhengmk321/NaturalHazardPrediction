{
 "cells": [
  {
   "cell_type": "code",
   "execution_count": 1,
   "id": "26e98480",
   "metadata": {},
   "outputs": [],
   "source": [
    "! cp -r /scratch1/00946/zzhang/design-safe-tutorial/data.tar.gz /tmp/\n",
    "# ! cp -r /work/09308/zhengmk/ML-Training-2022/data/data.tar.gz /tmp/\n",
    "! tar zxf /tmp/data.tar.gz -C /tmp"
   ]
  },
  {
   "cell_type": "code",
   "execution_count": 2,
   "id": "8c1eb2c0",
   "metadata": {},
   "outputs": [
    {
     "name": "stdout",
     "output_type": "stream",
     "text": [
      "Train  Validation\r\n"
     ]
    }
   ],
   "source": [
    "! ls /tmp/Dataset_2\n",
    "! rm /tmp/data.tar.gz"
   ]
  }
 ],
 "metadata": {
  "kernelspec": {
   "display_name": "Python 3 (ipykernel)",
   "language": "python",
   "name": "python3"
  },
  "language_info": {
   "codemirror_mode": {
    "name": "ipython",
    "version": 3
   },
   "file_extension": ".py",
   "mimetype": "text/x-python",
   "name": "python",
   "nbconvert_exporter": "python",
   "pygments_lexer": "ipython3",
   "version": "3.9.2"
  }
 },
 "nbformat": 4,
 "nbformat_minor": 5
}
