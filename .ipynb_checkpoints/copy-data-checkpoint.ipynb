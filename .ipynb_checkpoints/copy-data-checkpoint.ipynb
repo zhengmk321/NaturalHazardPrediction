{
 "cells": [
  {
   "cell_type": "code",
   "execution_count": 1,
   "metadata": {},
   "outputs": [
    {
     "name": "stdout",
     "output_type": "stream",
     "text": [
      "cp: cannot stat '/scratch1/00946/zzhang/design-safe-tutorial/data.tar.gz': No such file or directory\n",
      "tar (child): /tmp/data.tar.gz: Cannot open: No such file or directory\n",
      "tar (child): Error is not recoverable: exiting now\n",
      "tar: Child returned status 2\n",
      "tar: Error is not recoverable: exiting now\n"
     ]
    }
   ],
   "source": [
    "! cp -r /scratch1/00946/zzhang/design-safe-tutorial/data.tar.gz /tmp/\n",
    "! tar zxf /tmp/data.tar.gz -C /tmp"
   ]
  },
  {
   "cell_type": "code",
   "execution_count": 2,
   "metadata": {},
   "outputs": [
    {
     "name": "stdout",
     "output_type": "stream",
     "text": [
      "ls: cannot access '/tmp/Dataset_2': No such file or directory\n",
      "rm: cannot remove '/tmp/data.tar.gz': No such file or directory\n",
      "ls: cannot access '/tmp/data.tar.gz': No such file or directory\n"
     ]
    }
   ],
   "source": [
    "! ls /tmp/Dataset_2\n",
    "! rm /tmp/data.tar.gz\n",
    "! ls /tmp/data.tar.gz"
   ]
  },
  {
   "cell_type": "code",
   "execution_count": null,
   "metadata": {},
   "outputs": [],
   "source": []
  }
 ],
 "metadata": {
  "kernelspec": {
   "display_name": "demo",
   "language": "python",
   "name": "demo"
  },
  "language_info": {
   "codemirror_mode": {
    "name": "ipython",
    "version": 3
   },
   "file_extension": ".py",
   "mimetype": "text/x-python",
   "name": "python",
   "nbconvert_exporter": "python",
   "pygments_lexer": "ipython3",
   "version": "3.8.16"
  }
 },
 "nbformat": 4,
 "nbformat_minor": 2
}
