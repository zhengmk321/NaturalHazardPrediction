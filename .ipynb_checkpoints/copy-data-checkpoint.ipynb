{
 "cells": [
  {
   "cell_type": "code",
   "execution_count": 1,
   "metadata": {},
   "outputs": [],
   "source": [
    "! cp -r /scratch1/00946/zzhang/design-safe-tutorial/data.tar.gz /tmp/\n",
    "# ! cp -r /work/09308/zhengmk/ML-Training-2022/data/data.tar.gz /tmp/\n",
    "! tar zxf /tmp/data.tar.gz -C /tmp"
   ]
  },
  {
   "cell_type": "code",
   "execution_count": 2,
   "metadata": {},
   "outputs": [
    {
     "name": "stdout",
     "output_type": "stream",
     "text": [
      "Train  Validation\n",
      "ls: cannot access /tmp/data.tar.gz: No such file or directory\n"
     ]
    }
   ],
   "source": [
    "! ls /tmp/Dataset_2\n",
    "! rm /tmp/data.tar.gz"
   ]
  },
  {
   "cell_type": "code",
   "execution_count": null,
   "metadata": {},
   "outputs": [],
   "source": []
  }
 ],
 "metadata": {
  "kernelspec": {
   "display_name": "demo",
   "language": "python",
   "name": "demo"
  },
  "language_info": {
   "codemirror_mode": {
    "name": "ipython",
    "version": 3
   },
   "file_extension": ".py",
   "mimetype": "text/x-python",
   "name": "python",
   "nbconvert_exporter": "python",
   "pygments_lexer": "ipython3",
   "version": "3.8.16"
  }
 },
 "nbformat": 4,
 "nbformat_minor": 2
}
