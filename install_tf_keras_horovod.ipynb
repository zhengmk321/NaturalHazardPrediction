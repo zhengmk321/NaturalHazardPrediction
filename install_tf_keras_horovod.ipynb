{
 "cells": [
  {
   "cell_type": "code",
   "execution_count": 1,
   "metadata": {},
   "outputs": [
    {
     "name": "stdout",
     "output_type": "stream",
     "text": [
      "Collecting tensorflow-gpu==2.4.0\n",
      "\u001b[?25l  Downloading https://files.pythonhosted.org/packages/e8/3e/bf817be24fe71c430775da74e839150d386de236dc35c26da15d7c9a57a3/tensorflow_gpu-2.4.0-cp37-cp37m-manylinux2010_x86_64.whl (394.7MB)\n",
      "\u001b[K     |████████████████████████████████| 394.7MB 139kB/s  eta 0:00:01      | 1.4MB 10.1MB/s eta 0:00:40MB/s eta 0:00:398                     | 16.3MB 10.1MB/s eta 0:00:38                     | 23.9MB 10.1MB/s eta 0:00:370:37 0:00:3736                      | 39.0MB 10.1MB/s eta 0:00:36| 43.6MB 10.1MB/s eta 0:00:35�                            | 47.2MB 10.1MB/s eta 0:00:35                    | 50.5MB 10.1MB/s eta 0:00:35�                           | 54.8MB 10.1MB/s eta 0:00:34.0MB 10.1MB/s eta 0:00:34                     | 62.4MB 10.1MB/s eta 0:00:34.3MB/s eta 0:00:46.3MB/s eta 0:00:45.3MB/s eta 0:00:450:44    | 78.4MB 7.3MB/s eta 0:00:44        | 82.3MB 7.3MB/s eta 0:00:43     |███████                         | 86.7MB 7.3MB/s eta 0:00:43     |███████▍                        | 91.1MB 7.3MB/s eta 0:00:42███▉                        | 97.0MB 7.3MB/s eta 0:00:41                  | 101.4MB 7.3MB/s eta 0:00:41��▌                       | 105.0MB 7.3MB/s eta 0:00:40                  | 109.3MB 7.3MB/s eta 0:00:403MB/s eta 0:00:3916.7MB 7.3MB/s eta 0:00:39:00:38  |██████████▏                     | 125.1MB 7.3MB/s eta 0:00:37                 | 128.2MB 7.3MB/s eta 0:00:37��███▏                    | 138.4MB 64.3MB/s eta 0:00:04��███▌                    | 142.2MB 64.3MB/s eta 0:00:04█████████▉                    | 146.1MB 64.3MB/s eta 0:00:04████████▏                   | 150.3MB 64.3MB/s eta 0:00:04��██▌                   | 154.5MB 64.3MB/s eta 0:00:04██▉                   | 158.5MB 64.3MB/s eta 0:00:040:04          | 178.2MB 64.3MB/s eta 0:00:04          | 181.8MB 64.3MB/s eta 0:00:04███████████                 | 186.0MB 64.3MB/s eta 0:00:04 0:00:04�██▊                | 194.1MB 64.3MB/s eta 0:00:047MB 64.3MB/s eta 0:00:04            | 201.6MB 64.3MB/s eta 0:00:04 |████████████████▋               | 204.8MB 64.3MB/s eta 0:00:03█████████████               | 208.7MB 16.0MB/s eta 0:00:12��█▎              | 213.0MB 16.0MB/s eta 0:00:12��█▋              | 216.6MB 16.0MB/s eta 0:00:12��█▉              | 220.3MB 16.0MB/s eta 0:00:11��██              | 223.2MB 16.0MB/s eta 0:00:11████████▍             | 226.7MB 16.0MB/s eta 0:00:11�█▊             | 230.9MB 16.0MB/s eta 0:00:11��███████████████             | 235.1MB 16.0MB/s eta 0:00:10█████████████████▍            | 238.9MB 16.0MB/s eta 0:00:10  | 243.1MB 16.0MB/s eta 0:00:10  | 247.0MB 16.0MB/s eta 0:00:10��████████████████▎           | 250.6MB 16.0MB/s eta 0:00:09��██▋           | 254.3MB 16.0MB/s eta 0:00:09████████████████████▉           | 257.3MB 16.0MB/s eta 0:00:09��█████▏          | 261.6MB 16.0MB/s eta 0:00:090:09  | 269.0MB 16.0MB/s eta 0:00:08�█████████████████          | 272.5MB 16.0MB/s eta 0:00:08:00:03:00:03█████████████▍        | 287.9MB 43.1MB/s eta 0:00:03��        | 292.0MB 43.1MB/s eta 0:00:03:00:03�███████████▌       | 302.6MB 43.1MB/s eta 0:00:03████▉       | 306.1MB 43.1MB/s eta 0:00:03�████████████▏      | 310.2MB 43.1MB/s eta 0:00:02��█████████████████▌      | 314.2MB 43.1MB/s eta 0:00:02�████████████▉      | 318.0MB 43.1MB/s eta 0:00:02��██████████████████      | 321.7MB 43.1MB/s eta 0:00:02�███▍     | 325.3MB 43.1MB/s eta 0:00:02�████████████████████     | 332.9MB 43.1MB/s eta 0:00:02��███▎    | 336.8MB 43.1MB/s eta 0:00:02��███▋    | 340.6MB 43.1MB/s eta 0:00:02��████████████████████    | 344.6MB 43.1MB/s eta 0:00:02��████████████████████████▎   | 348.6MB 78.2MB/s eta 0:00:01████████▌   | 351.8MB 78.2MB/s eta 0:00:01��██████████████▉   | 355.3MB 78.2MB/s eta 0:00:01| 358.7MB 78.2MB/s eta 0:00:01�████████████▍  | 362.2MB 78.2MB/s eta 0:00:01��█████████████████████████▋  | 365.4MB 78.2MB/s eta 0:00:01��██████████████████████████  | 368.8MB 78.2MB/s eta 0:00:01| 372.3MB 78.2MB/s eta 0:00:01ta 0:00:01ta 0:00:01��███████████████▎| 385.5MB 78.2MB/s eta 0:00:01��███████████████▌| 389.0MB 78.2MB/s eta 0:00:015MB 78.2MB/s eta 0:00:01\n",
      "\u001b[?25hCollecting numpy~=1.19.2 (from tensorflow-gpu==2.4.0)\n",
      "\u001b[?25l  Downloading https://files.pythonhosted.org/packages/08/d6/a6aaa29fea945bc6c61d11f6e0697b325ff7446de5ffd62c2fa02f627048/numpy-1.19.5-cp37-cp37m-manylinux2010_x86_64.whl (14.8MB)\n",
      "\u001b[K     |████████████████████████████████| 14.8MB 52.5MB/s eta 0:00:011.9MB 52.5MB/s eta 0:00:01███▋                  | 6.3MB 52.5MB/s eta 0:00:01��█████████▉   | 13.4MB 52.5MB/s eta 0:00:01\n",
      "\u001b[?25hCollecting tensorboard~=2.4 (from tensorflow-gpu==2.4.0)\n",
      "\u001b[?25l  Downloading https://files.pythonhosted.org/packages/6f/77/e624b4916531721e674aa105151ffa5223fb224d3ca4bd5c10574664f944/tensorboard-2.11.2-py3-none-any.whl (6.0MB)\n",
      "\u001b[K     |████████████████████████████████| 6.0MB 59.5MB/s eta 0:00:01    |███                             | 542kB 59.5MB/s eta 0:00:01\n",
      "\u001b[?25hCollecting wrapt~=1.12.1 (from tensorflow-gpu==2.4.0)\n",
      "  Downloading https://files.pythonhosted.org/packages/82/f7/e43cefbe88c5fd371f4cf0cf5eb3feccd07515af9fd6cf7dbf1d1793a797/wrapt-1.12.1.tar.gz\n",
      "Collecting six~=1.15.0 (from tensorflow-gpu==2.4.0)\n",
      "  Downloading https://files.pythonhosted.org/packages/ee/ff/48bde5c0f013094d729fe4b0316ba2a24774b3ff1c52d924a8a4cb04078a/six-1.15.0-py2.py3-none-any.whl\n",
      "Collecting wheel~=0.35 (from tensorflow-gpu==2.4.0)\n",
      "  Using cached https://files.pythonhosted.org/packages/bd/7c/d38a0b30ce22fc26ed7dbc087c6d00851fb3395e9d0dac40bec1f905030c/wheel-0.38.4-py3-none-any.whl\n",
      "Collecting absl-py~=0.10 (from tensorflow-gpu==2.4.0)\n",
      "\u001b[?25l  Downloading https://files.pythonhosted.org/packages/97/75/f5e61fb67ecbe45c31035b17562464e11b91a2b8a351bae5ca0db2969e3b/absl_py-0.15.0-py3-none-any.whl (132kB)\n",
      "\u001b[K     |████████████████████████████████| 133kB 64.6MB/s eta 0:00:01\n",
      "\u001b[?25hCollecting astunparse~=1.6.3 (from tensorflow-gpu==2.4.0)\n",
      "  Downloading https://files.pythonhosted.org/packages/2b/03/13dde6512ad7b4557eb792fbcf0c653af6076b81e5941d36ec61f7ce6028/astunparse-1.6.3-py2.py3-none-any.whl\n",
      "Collecting flatbuffers~=1.12.0 (from tensorflow-gpu==2.4.0)\n",
      "  Downloading https://files.pythonhosted.org/packages/eb/26/712e578c5f14e26ae3314c39a1bdc4eb2ec2f4ddc89b708cf8e0a0d20423/flatbuffers-1.12-py2.py3-none-any.whl\n",
      "Collecting gast==0.3.3 (from tensorflow-gpu==2.4.0)\n",
      "  Downloading https://files.pythonhosted.org/packages/d6/84/759f5dd23fec8ba71952d97bcc7e2c9d7d63bdc582421f3cd4be845f0c98/gast-0.3.3-py2.py3-none-any.whl\n",
      "Requirement already satisfied: h5py~=2.10.0 in /opt/apps/intel19/impi19_0/python3/3.7.0/lib/python3.7/site-packages (from tensorflow-gpu==2.4.0) (2.10.0)\n",
      "Collecting tensorflow-estimator<2.5.0,>=2.4.0rc0 (from tensorflow-gpu==2.4.0)\n",
      "\u001b[?25l  Downloading https://files.pythonhosted.org/packages/74/7e/622d9849abf3afb81e482ffc170758742e392ee129ce1540611199a59237/tensorflow_estimator-2.4.0-py2.py3-none-any.whl (462kB)\n",
      "\u001b[K     |████████████████████████████████| 471kB 59.5MB/s eta 0:00:01\n",
      "\u001b[?25hCollecting grpcio~=1.32.0 (from tensorflow-gpu==2.4.0)\n",
      "\u001b[?25l  Downloading https://files.pythonhosted.org/packages/99/da/8dc10aab771e01937aaf10cd28d1fcf861bca48c570ee6a5cee00f7be111/grpcio-1.32.0-cp37-cp37m-manylinux2010_x86_64.whl (3.7MB)\n",
      "\u001b[K     |████████████████████████████████| 3.7MB 54.1MB/s eta 0:00:01     | 2.1MB 54.1MB/s eta 0:00:01\n",
      "\u001b[?25hCollecting opt-einsum~=3.3.0 (from tensorflow-gpu==2.4.0)\n",
      "\u001b[?25l  Downloading https://files.pythonhosted.org/packages/bc/19/404708a7e54ad2798907210462fd950c3442ea51acc8790f3da48d2bee8b/opt_einsum-3.3.0-py3-none-any.whl (65kB)\n",
      "\u001b[K     |████████████████████████████████| 71kB 14.1MB/s eta 0:00:01\n",
      "\u001b[?25hCollecting google-pasta~=0.2 (from tensorflow-gpu==2.4.0)\n",
      "\u001b[?25l  Downloading https://files.pythonhosted.org/packages/a3/de/c648ef6835192e6e2cc03f40b19eeda4382c49b5bafb43d88b931c4c74ac/google_pasta-0.2.0-py3-none-any.whl (57kB)\n",
      "\u001b[K     |████████████████████████████████| 61kB 12.1MB/s eta 0:00:01\n",
      "\u001b[?25hCollecting protobuf>=3.9.2 (from tensorflow-gpu==2.4.0)\n",
      "\u001b[?25l  Downloading https://files.pythonhosted.org/packages/c6/3b/33f3bd47dbfdd17ed87024b6473b26ee3a8c3303f019e91557b2654703a4/protobuf-4.21.12-py2.py3-none-any.whl (165kB)\n",
      "\u001b[K     |████████████████████████████████| 174kB 41.5MB/s eta 0:00:01\n",
      "\u001b[?25hCollecting keras-preprocessing~=1.1.2 (from tensorflow-gpu==2.4.0)\n"
     ]
    },
    {
     "name": "stdout",
     "output_type": "stream",
     "text": [
      "\u001b[?25l  Downloading https://files.pythonhosted.org/packages/79/4c/7c3275a01e12ef9368a892926ab932b33bb13d55794881e3573482b378a7/Keras_Preprocessing-1.1.2-py2.py3-none-any.whl (42kB)\n",
      "\u001b[K     |████████████████████████████████| 51kB 10.3MB/s eta 0:00:01\n",
      "\u001b[?25hCollecting termcolor~=1.1.0 (from tensorflow-gpu==2.4.0)\n",
      "  Downloading https://files.pythonhosted.org/packages/8a/48/a76be51647d0eb9f10e2a4511bf3ffb8cc1e6b14e9e4fab46173aa79f981/termcolor-1.1.0.tar.gz\n",
      "Collecting typing-extensions~=3.7.4 (from tensorflow-gpu==2.4.0)\n",
      "  Downloading https://files.pythonhosted.org/packages/60/7a/e881b5abb54db0e6e671ab088d079c57ce54e8a01a3ca443f561ccadb37e/typing_extensions-3.7.4.3-py3-none-any.whl\n",
      "Collecting tensorboard-data-server<0.7.0,>=0.6.0 (from tensorboard~=2.4->tensorflow-gpu==2.4.0)\n",
      "\u001b[?25l  Downloading https://files.pythonhosted.org/packages/60/f9/802efd84988bffd9f644c03b6e66fde8e76c3aa33db4279ddd11c5d61f4b/tensorboard_data_server-0.6.1-py3-none-manylinux2010_x86_64.whl (4.9MB)\n",
      "\u001b[K     |████████████████████████████████| 4.9MB 62.9MB/s eta 0:00:01 eta 0:00:01\n",
      "\u001b[?25hCollecting requests<3,>=2.21.0 (from tensorboard~=2.4->tensorflow-gpu==2.4.0)\n",
      "  Using cached https://files.pythonhosted.org/packages/d2/f4/274d1dbe96b41cf4e0efb70cbced278ffd61b5c7bb70338b62af94ccb25b/requests-2.28.2-py3-none-any.whl\n",
      "Collecting tensorboard-plugin-wit>=1.6.0 (from tensorboard~=2.4->tensorflow-gpu==2.4.0)\n",
      "\u001b[?25l  Downloading https://files.pythonhosted.org/packages/e0/68/e8ecfac5dd594b676c23a7f07ea34c197d7d69b3313afdf8ac1b0a9905a2/tensorboard_plugin_wit-1.8.1-py3-none-any.whl (781kB)\n",
      "\u001b[K     |████████████████████████████████| 788kB 67.4MB/s eta 0:00:01a 0:00:01\n",
      "\u001b[?25hCollecting google-auth-oauthlib<0.5,>=0.4.1 (from tensorboard~=2.4->tensorflow-gpu==2.4.0)\n",
      "  Downloading https://files.pythonhosted.org/packages/b1/0e/0636cc1448a7abc444fb1b3a63655e294e0d2d49092dc3de05241be6d43c/google_auth_oauthlib-0.4.6-py2.py3-none-any.whl\n",
      "Requirement already satisfied: setuptools>=41.0.0 in /opt/apps/intel19/python3/3.7.0/lib/python3.7/site-packages (from tensorboard~=2.4->tensorflow-gpu==2.4.0) (41.2.0)\n",
      "Collecting werkzeug>=1.0.1 (from tensorboard~=2.4->tensorflow-gpu==2.4.0)\n",
      "\u001b[?25l  Downloading https://files.pythonhosted.org/packages/c8/27/be6ddbcf60115305205de79c29004a0c6bc53cec814f733467b1bb89386d/Werkzeug-2.2.2-py3-none-any.whl (232kB)\n",
      "\u001b[K     |████████████████████████████████| 235kB 67.0MB/s eta 0:00:01\n",
      "\u001b[?25hCollecting google-auth<3,>=1.6.3 (from tensorboard~=2.4->tensorflow-gpu==2.4.0)\n",
      "  Using cached https://files.pythonhosted.org/packages/fb/55/c6e13b79a16688069b214cf726ebe49725c0b936367f045464b1122de083/google_auth-2.16.0-py2.py3-none-any.whl\n",
      "Collecting markdown>=2.6.8 (from tensorboard~=2.4->tensorflow-gpu==2.4.0)\n",
      "\u001b[?25l  Downloading https://files.pythonhosted.org/packages/86/be/ad281f7a3686b38dd8a307fa33210cdf2130404dfef668a37a4166d737ca/Markdown-3.4.1-py3-none-any.whl (93kB)\n",
      "\u001b[K     |████████████████████████████████| 102kB 18.0MB/s ta 0:00:01\n",
      "\u001b[?25hRequirement already satisfied: certifi>=2017.4.17 in /opt/apps/intel19/python3/3.7.0/lib/python3.7/site-packages (from requests<3,>=2.21.0->tensorboard~=2.4->tensorflow-gpu==2.4.0) (2019.3.9)\n",
      "Collecting urllib3<1.27,>=1.21.1 (from requests<3,>=2.21.0->tensorboard~=2.4->tensorflow-gpu==2.4.0)\n",
      "  Using cached https://files.pythonhosted.org/packages/fe/ca/466766e20b767ddb9b951202542310cba37ea5f2d792dae7589f1741af58/urllib3-1.26.14-py2.py3-none-any.whl\n",
      "Collecting idna<4,>=2.5 (from requests<3,>=2.21.0->tensorboard~=2.4->tensorflow-gpu==2.4.0)\n",
      "  Using cached https://files.pythonhosted.org/packages/fc/34/3030de6f1370931b9dbb4dad48f6ab1015ab1d32447850b9fc94e60097be/idna-3.4-py3-none-any.whl\n",
      "Collecting charset-normalizer<4,>=2 (from requests<3,>=2.21.0->tensorboard~=2.4->tensorflow-gpu==2.4.0)\n",
      "  Using cached https://files.pythonhosted.org/packages/68/2b/02e9d6a98ddb73fa238d559a9edcc30b247b8dc4ee848b6184c936e99dc0/charset_normalizer-3.0.1-py3-none-any.whl\n",
      "Collecting requests-oauthlib>=0.7.0 (from google-auth-oauthlib<0.5,>=0.4.1->tensorboard~=2.4->tensorflow-gpu==2.4.0)\n",
      "  Downloading https://files.pythonhosted.org/packages/6f/bb/5deac77a9af870143c684ab46a7934038a53eb4aa975bc0687ed6ca2c610/requests_oauthlib-1.3.1-py2.py3-none-any.whl\n",
      "Collecting MarkupSafe>=2.1.1 (from werkzeug>=1.0.1->tensorboard~=2.4->tensorflow-gpu==2.4.0)\n",
      "  Downloading https://files.pythonhosted.org/packages/95/7e/68018b70268fb4a2a605e2be44ab7b4dd7ce7808adae6c5ef32e34f4b55a/MarkupSafe-2.1.2.tar.gz\n",
      "Collecting cachetools<6.0,>=2.0.0 (from google-auth<3,>=1.6.3->tensorboard~=2.4->tensorflow-gpu==2.4.0)\n",
      "  Using cached https://files.pythonhosted.org/packages/db/14/2b48a834d349eee94677e8702ea2ef98b7c674b090153ea8d3f6a788584e/cachetools-5.3.0-py3-none-any.whl\n",
      "Collecting rsa<5,>=3.1.4; python_version >= \"3.6\" (from google-auth<3,>=1.6.3->tensorboard~=2.4->tensorflow-gpu==2.4.0)\n",
      "  Using cached https://files.pythonhosted.org/packages/49/97/fa78e3d2f65c02c8e1268b9aba606569fe97f6c8f7c2d74394553347c145/rsa-4.9-py3-none-any.whl\n",
      "Collecting pyasn1-modules>=0.2.1 (from google-auth<3,>=1.6.3->tensorboard~=2.4->tensorflow-gpu==2.4.0)\n",
      "  Using cached https://files.pythonhosted.org/packages/95/de/214830a981892a3e286c3794f41ae67a4495df1108c3da8a9f62159b9a9d/pyasn1_modules-0.2.8-py2.py3-none-any.whl\n",
      "Collecting importlib-metadata>=4.4; python_version < \"3.10\" (from markdown>=2.6.8->tensorboard~=2.4->tensorflow-gpu==2.4.0)\n",
      "  Using cached https://files.pythonhosted.org/packages/26/a7/9da7d5b23fc98ab3d424ac2c65613d63c1f401efb84ad50f2fa27b2caab4/importlib_metadata-6.0.0-py3-none-any.whl\n",
      "Collecting oauthlib>=3.0.0 (from requests-oauthlib>=0.7.0->google-auth-oauthlib<0.5,>=0.4.1->tensorboard~=2.4->tensorflow-gpu==2.4.0)\n",
      "\u001b[?25l  Downloading https://files.pythonhosted.org/packages/7e/80/cab10959dc1faead58dc8384a781dfbf93cb4d33d50988f7a69f1b7c9bbe/oauthlib-3.2.2-py3-none-any.whl (151kB)\n",
      "\u001b[K     |████████████████████████████████| 153kB 60.1MB/s eta 0:00:01\n",
      "\u001b[?25hRequirement already satisfied: pyasn1>=0.1.3 in /opt/apps/intel19/python3/3.7.0/lib/python3.7/site-packages (from rsa<5,>=3.1.4; python_version >= \"3.6\"->google-auth<3,>=1.6.3->tensorboard~=2.4->tensorflow-gpu==2.4.0) (0.4.5)\n",
      "Requirement already satisfied: zipp>=0.5 in /opt/apps/intel19/python3/3.7.0/lib/python3.7/site-packages (from importlib-metadata>=4.4; python_version < \"3.10\"->markdown>=2.6.8->tensorboard~=2.4->tensorflow-gpu==2.4.0) (0.5.1)\n",
      "\u001b[31mERROR: pyasn1-modules 0.2.8 has requirement pyasn1<0.5.0,>=0.4.6, but you'll have pyasn1 0.4.5 which is incompatible.\u001b[0m\n",
      "\u001b[31mERROR: tensorboard 2.11.2 has requirement protobuf<4,>=3.9.2, but you'll have protobuf 4.21.12 which is incompatible.\u001b[0m\n",
      "Installing collected packages: numpy, tensorboard-data-server, urllib3, idna, charset-normalizer, requests, wheel, tensorboard-plugin-wit, six, grpcio, cachetools, rsa, pyasn1-modules, google-auth, oauthlib, requests-oauthlib, google-auth-oauthlib, MarkupSafe, werkzeug, typing-extensions, importlib-metadata, markdown, absl-py, protobuf, tensorboard, wrapt, astunparse, flatbuffers, gast, tensorflow-estimator, opt-einsum, google-pasta, keras-preprocessing, termcolor, tensorflow-gpu\n",
      "\u001b[33m  WARNING: The scripts f2py, f2py3 and f2py3.7 are installed in '/home1/09308/zhengmk/.local/bin' which is not on PATH.\n",
      "  Consider adding this directory to PATH or, if you prefer to suppress this warning, use --no-warn-script-location.\u001b[0m\n",
      "\u001b[33m  WARNING: The script normalizer is installed in '/home1/09308/zhengmk/.local/bin' which is not on PATH.\n",
      "  Consider adding this directory to PATH or, if you prefer to suppress this warning, use --no-warn-script-location.\u001b[0m\n",
      "\u001b[33m  WARNING: The script wheel is installed in '/home1/09308/zhengmk/.local/bin' which is not on PATH.\n",
      "  Consider adding this directory to PATH or, if you prefer to suppress this warning, use --no-warn-script-location.\u001b[0m\n",
      "\u001b[33m  WARNING: The scripts pyrsa-decrypt, pyrsa-encrypt, pyrsa-keygen, pyrsa-priv2pub, pyrsa-sign and pyrsa-verify are installed in '/home1/09308/zhengmk/.local/bin' which is not on PATH.\n",
      "  Consider adding this directory to PATH or, if you prefer to suppress this warning, use --no-warn-script-location.\u001b[0m\n",
      "\u001b[33m  WARNING: The script google-oauthlib-tool is installed in '/home1/09308/zhengmk/.local/bin' which is not on PATH.\n",
      "  Consider adding this directory to PATH or, if you prefer to suppress this warning, use --no-warn-script-location.\u001b[0m\n"
     ]
    },
    {
     "name": "stdout",
     "output_type": "stream",
     "text": [
      "  Running setup.py install for MarkupSafe ... \u001b[?25ldone\n",
      "\u001b[33m  WARNING: The script markdown_py is installed in '/home1/09308/zhengmk/.local/bin' which is not on PATH.\n",
      "  Consider adding this directory to PATH or, if you prefer to suppress this warning, use --no-warn-script-location.\u001b[0m\n",
      "\u001b[33m  WARNING: The script tensorboard is installed in '/home1/09308/zhengmk/.local/bin' which is not on PATH.\n",
      "  Consider adding this directory to PATH or, if you prefer to suppress this warning, use --no-warn-script-location.\u001b[0m\n",
      "\u001b[?25h  Running setup.py install for wrapt ... \u001b[?25ldone\n",
      "\u001b[?25h  Running setup.py install for termcolor ... \u001b[?25ldone\n",
      "\u001b[33m  WARNING: The scripts estimator_ckpt_converter, import_pb_to_tensorboard, saved_model_cli, tensorboard, tf_upgrade_v2, tflite_convert, toco and toco_from_protos are installed in '/home1/09308/zhengmk/.local/bin' which is not on PATH.\n",
      "  Consider adding this directory to PATH or, if you prefer to suppress this warning, use --no-warn-script-location.\u001b[0m\n",
      "\u001b[?25hSuccessfully installed MarkupSafe-2.1.2 absl-py-0.15.0 astunparse-1.6.3 cachetools-5.3.0 charset-normalizer-3.0.1 flatbuffers-1.12 gast-0.3.3 google-auth-2.16.0 google-auth-oauthlib-0.4.6 google-pasta-0.2.0 grpcio-1.32.0 idna-3.4 importlib-metadata-6.0.0 keras-preprocessing-1.1.2 markdown-3.4.1 numpy-1.19.5 oauthlib-3.2.2 opt-einsum-3.3.0 protobuf-4.21.12 pyasn1-modules-0.2.8 requests-2.28.2 requests-oauthlib-1.3.1 rsa-4.9 six-1.15.0 tensorboard-2.11.2 tensorboard-data-server-0.6.1 tensorboard-plugin-wit-1.8.1 tensorflow-estimator-2.4.0 tensorflow-gpu-2.4.0 termcolor-1.1.0 typing-extensions-3.7.4.3 urllib3-1.26.14 werkzeug-2.2.2 wheel-0.38.4 wrapt-1.12.1\n",
      "\u001b[33mWARNING: You are using pip version 19.2.3, however version 23.0 is available.\n",
      "You should consider upgrading via the 'pip install --upgrade pip' command.\u001b[0m\n"
     ]
    }
   ],
   "source": [
    "! pip3 install --user tensorflow-gpu"
   ]
  },
  {
   "cell_type": "code",
   "execution_count": 2,
   "metadata": {},
   "outputs": [
    {
     "name": "stdout",
     "output_type": "stream",
     "text": [
      "Collecting h5py==2.10.0\n",
      "\u001b[?25l  Downloading https://files.pythonhosted.org/packages/3f/c0/abde58b837e066bca19a3f7332d9d0493521d7dd6b48248451a9e3fe2214/h5py-2.10.0-cp37-cp37m-manylinux1_x86_64.whl (2.9MB)\n",
      "\u001b[K     |████████████████████████████████| 2.9MB 9.9MB/s eta 0:00:01\n",
      "\u001b[?25hCollecting numpy>=1.7 (from h5py==2.10.0)\n",
      "  Using cached https://files.pythonhosted.org/packages/6d/ad/ff3b21ebfe79a4d25b4a4f8e5cf9fd44a204adb6b33c09010f566f51027a/numpy-1.21.6-cp37-cp37m-manylinux_2_12_x86_64.manylinux2010_x86_64.whl\n",
      "Collecting six (from h5py==2.10.0)\n",
      "  Using cached https://files.pythonhosted.org/packages/d9/5a/e7c31adbe875f2abbb91bd84cf2dc52d792b5a01506781dbcf25c91daf11/six-1.16.0-py2.py3-none-any.whl\n",
      "\u001b[31mERROR: tensorflow-gpu 2.4.0 has requirement numpy~=1.19.2, but you'll have numpy 1.21.6 which is incompatible.\u001b[0m\n",
      "\u001b[31mERROR: tensorflow-gpu 2.4.0 has requirement six~=1.15.0, but you'll have six 1.16.0 which is incompatible.\u001b[0m\n",
      "\u001b[31mERROR: tensorboard 2.11.2 has requirement protobuf<4,>=3.9.2, but you'll have protobuf 4.21.12 which is incompatible.\u001b[0m\n",
      "Installing collected packages: numpy, six, h5py\n",
      "  Found existing installation: numpy 1.19.5\n",
      "    Uninstalling numpy-1.19.5:\n",
      "      Successfully uninstalled numpy-1.19.5\n",
      "\u001b[33m  WARNING: The scripts f2py, f2py3 and f2py3.7 are installed in '/home1/09308/zhengmk/.local/bin' which is not on PATH.\n",
      "  Consider adding this directory to PATH or, if you prefer to suppress this warning, use --no-warn-script-location.\u001b[0m\n",
      "  Found existing installation: six 1.15.0\n",
      "    Uninstalling six-1.15.0:\n",
      "      Successfully uninstalled six-1.15.0\n",
      "Successfully installed h5py-2.10.0 numpy-1.21.6 six-1.16.0\n",
      "\u001b[33mWARNING: You are using pip version 19.2.3, however version 23.0 is available.\n",
      "You should consider upgrading via the 'pip install --upgrade pip' command.\u001b[0m\n"
     ]
    }
   ],
   "source": [
    "! pip3 install --user --force-reinstall h5py==2.10.0"
   ]
  },
  {
   "cell_type": "code",
   "execution_count": 3,
   "metadata": {},
   "outputs": [
    {
     "name": "stdout",
     "output_type": "stream",
     "text": [
      "Collecting pillow\n",
      "  Using cached https://files.pythonhosted.org/packages/bc/07/830784e061fb94d67649f3e438ff63cfb902dec6d48ac75aeaaac7c7c30e/Pillow-9.4.0.tar.gz\n",
      "Collecting scikit-learn\n",
      "\u001b[?25l  Downloading https://files.pythonhosted.org/packages/6d/09/75d4dccea54627920db3cfeb5183ba9f0be2c9b18c4ad00ca6621d009d4f/scikit_learn-1.0.2-cp37-cp37m-manylinux_2_12_x86_64.manylinux2010_x86_64.whl (23.0MB)\n",
      "\u001b[K     |████████████████████████████████| 23.0MB 10.6MB/s eta 0:00:01 | 2.8MB 10.6MB/s eta 0:00:02█▌                      | 6.8MB 10.6MB/s eta 0:00:02�████████▌                 | 10.4MB 10.6MB/s eta 0:00:02ta 0:00:01��█████████████████▌      | 18.3MB 10.6MB/s eta 0:00:01��█████████████████████████▊ | 22.0MB 10.6MB/s eta 0:00:01\n",
      "\u001b[?25hRequirement already satisfied: scipy>=1.1.0 in /opt/apps/intel19/python3/3.7.0/lib/python3.7/site-packages/scipy-1.3.0-py3.7-linux-x86_64.egg (from scikit-learn) (1.3.0)\n",
      "Requirement already satisfied: numpy>=1.14.6 in /home1/09308/zhengmk/.local/lib/python3.7/site-packages (from scikit-learn) (1.21.6)\n",
      "Collecting threadpoolctl>=2.0.0 (from scikit-learn)\n",
      "  Downloading https://files.pythonhosted.org/packages/61/cf/6e354304bcb9c6413c4e02a747b600061c21d38ba51e7e544ac7bc66aecc/threadpoolctl-3.1.0-py3-none-any.whl\n",
      "Collecting joblib>=0.11 (from scikit-learn)\n",
      "\u001b[?25l  Downloading https://files.pythonhosted.org/packages/91/d4/3b4c8e5a30604df4c7518c562d4bf0502f2fa29221459226e140cf846512/joblib-1.2.0-py3-none-any.whl (297kB)\n",
      "\u001b[K     |████████████████████████████████| 307kB 62.4MB/s eta 0:00:01\n",
      "\u001b[?25hBuilding wheels for collected packages: pillow\n",
      "  Building wheel for pillow (setup.py) ... \u001b[?25ldone\n",
      "\u001b[?25h  Created wheel for pillow: filename=Pillow-9.4.0-cp37-cp37m-linux_x86_64.whl size=1010378 sha256=f3d625b2880100ff0218fd5e93cb4de5a6960fb29f97abbdf2d77fa88ea91b73\n",
      "  Stored in directory: /home1/09308/zhengmk/.cache/pip/wheels/2b/d7/c7/1e56a7bdea79f02d2723fba1406616d4df2fdac6edb8afa2a5\n",
      "Successfully built pillow\n",
      "Installing collected packages: pillow, threadpoolctl, joblib, scikit-learn\n",
      "Successfully installed joblib-1.2.0 pillow-9.4.0 scikit-learn-1.0.2 threadpoolctl-3.1.0\n",
      "\u001b[33mWARNING: You are using pip version 19.2.3, however version 23.0 is available.\n",
      "You should consider upgrading via the 'pip install --upgrade pip' command.\u001b[0m\n"
     ]
    }
   ],
   "source": [
    "! pip3 install --user pillow scikit-learn"
   ]
  },
  {
   "cell_type": "code",
   "execution_count": 4,
   "metadata": {},
   "outputs": [
    {
     "ename": "SyntaxError",
     "evalue": "invalid syntax (<ipython-input-4-37219b452747>, line 1)",
     "output_type": "error",
     "traceback": [
      "\u001b[0;36m  File \u001b[0;32m\"<ipython-input-4-37219b452747>\"\u001b[0;36m, line \u001b[0;32m1\u001b[0m\n\u001b[0;31m    CC=gcc HOROVOD_CUDA_HOME=/opt/apps/cuda/11.0/ HOROVOD_NCCL_HOME=/opt/apps/cuda11_0/nccl/2.8.3 HOROVOD_WITH_TENSORFLOW=1 HOROVOD_GPU_OPERATIONS=NCCL pip3 install horovod==v0.22.0 --force-reinstall\u001b[0m\n\u001b[0m                           ^\u001b[0m\n\u001b[0;31mSyntaxError\u001b[0m\u001b[0;31m:\u001b[0m invalid syntax\n"
     ]
    }
   ],
   "source": [
    "CC=gcc HOROVOD_CUDA_HOME=/opt/apps/cuda/11.0/ HOROVOD_NCCL_HOME=/opt/apps/cuda11_0/nccl/2.8.3 HOROVOD_WITH_TENSORFLOW=1 HOROVOD_GPU_OPERATIONS=NCCL pip3 install horovod==v0.22.0 --force-reinstall"
   ]
  },
  {
   "cell_type": "code",
   "execution_count": null,
   "metadata": {},
   "outputs": [],
   "source": [
    "! cp -r /scratch1/00946/zzhang/design-safe-tutorial/data.tar.gz /tmp/\n",
    "! tar zxf /tmp/data.tar.gz -C /tmp"
   ]
  },
  {
   "cell_type": "code",
   "execution_count": null,
   "metadata": {},
   "outputs": [],
   "source": []
  }
 ],
 "metadata": {
  "kernelspec": {
   "display_name": "Python 3",
   "language": "python",
   "name": "python3"
  },
  "language_info": {
   "codemirror_mode": {
    "name": "ipython",
    "version": 3
   },
   "file_extension": ".py",
   "mimetype": "text/x-python",
   "name": "python",
   "nbconvert_exporter": "python",
   "pygments_lexer": "ipython3",
   "version": "3.7.0"
  }
 },
 "nbformat": 4,
 "nbformat_minor": 2
}
